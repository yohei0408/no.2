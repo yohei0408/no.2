{
  "nbformat": 4,
  "nbformat_minor": 0,
  "metadata": {
    "colab": {
      "provenance": [],
      "authorship_tag": "ABX9TyO4Ml0myGpjF87P5IYxhEOW",
      "include_colab_link": true
    },
    "kernelspec": {
      "name": "python3",
      "display_name": "Python 3"
    },
    "language_info": {
      "name": "python"
    }
  },
  "cells": [
    {
      "cell_type": "markdown",
      "metadata": {
        "id": "view-in-github",
        "colab_type": "text"
      },
      "source": [
        "<a href=\"https://colab.research.google.com/github/yohei0408/no.2/blob/main/%E8%87%AA%E7%84%B6%E8%A8%80%E8%AA%9E%E5%87%A6%E7%90%86%E5%9F%BA%E7%A4%8E.ipynb\" target=\"_parent\"><img src=\"https://colab.research.google.com/assets/colab-badge.svg\" alt=\"Open In Colab\"/></a>"
      ]
    },
    {
      "cell_type": "code",
      "execution_count": 1,
      "metadata": {
        "colab": {
          "base_uri": "https://localhost:8080/"
        },
        "id": "J_aJ1hV_OAXc",
        "outputId": "9573d2f1-506d-4d2a-8810-d9eb5bb4c8f3"
      },
      "outputs": [
        {
          "output_type": "stream",
          "name": "stdout",
          "text": [
            "\u001b[2K   \u001b[90m━━━━━━━━━━━━━━━━━━━━━━━━━━━━━━━━━━━━━━━━\u001b[0m \u001b[32m581.7/581.7 kB\u001b[0m \u001b[31m6.7 MB/s\u001b[0m eta \u001b[36m0:00:00\u001b[0m\n",
            "\u001b[2K     \u001b[90m━━━━━━━━━━━━━━━━━━━━━━━━━━━━━━━━━━━━━━━━\u001b[0m \u001b[32m47.4/47.4 MB\u001b[0m \u001b[31m16.0 MB/s\u001b[0m eta \u001b[36m0:00:00\u001b[0m\n",
            "\u001b[?25h  Preparing metadata (setup.py) ... \u001b[?25l\u001b[?25hdone\n",
            "  Building wheel for unidic-lite (setup.py) ... \u001b[?25l\u001b[?25hdone\n"
          ]
        }
      ],
      "source": [
        "!pip install -q mecab-python3\n",
        "!pip install -q unidic-lite"
      ]
    },
    {
      "cell_type": "code",
      "source": [
        "import MeCab\n"
      ],
      "metadata": {
        "id": "tvUg4p6GS4Oy"
      },
      "execution_count": 2,
      "outputs": []
    },
    {
      "cell_type": "code",
      "source": [
        "mecab = MeCab.Tagger('-Owakati')\n",
        "res = mecab.parse('こんにちは、私の名前はキカガクです。')\n",
        "res"
      ],
      "metadata": {
        "colab": {
          "base_uri": "https://localhost:8080/",
          "height": 35
        },
        "id": "2c3cWDveTFOj",
        "outputId": "75b79106-a8cc-41c8-988c-201edccc9afc"
      },
      "execution_count": 3,
      "outputs": [
        {
          "output_type": "execute_result",
          "data": {
            "text/plain": [
              "'こんにちは 、 私 の 名前 は キカガク です 。 \\n'"
            ],
            "application/vnd.google.colaboratory.intrinsic+json": {
              "type": "string"
            }
          },
          "metadata": {},
          "execution_count": 3
        }
      ]
    },
    {
      "cell_type": "code",
      "source": [
        "res = res.split(' ')\n",
        "res"
      ],
      "metadata": {
        "colab": {
          "base_uri": "https://localhost:8080/"
        },
        "id": "OXRfIssATgbm",
        "outputId": "05db6833-0e00-4dc6-bcb7-6ed07509f2e4"
      },
      "execution_count": 5,
      "outputs": [
        {
          "output_type": "execute_result",
          "data": {
            "text/plain": [
              "['こんにちは', '、', '私', 'の', '名前', 'は', 'キカガク', 'です', '。', '\\n']"
            ]
          },
          "metadata": {},
          "execution_count": 5
        }
      ]
    },
    {
      "cell_type": "code",
      "source": [
        "res = res[:-1]\n",
        "res"
      ],
      "metadata": {
        "colab": {
          "base_uri": "https://localhost:8080/"
        },
        "id": "1WkCIaasTm04",
        "outputId": "280d5899-60a7-4433-d6a7-11db377767f8"
      },
      "execution_count": 6,
      "outputs": [
        {
          "output_type": "execute_result",
          "data": {
            "text/plain": [
              "['こんにちは', '、', '私', 'の', '名前', 'は', 'キカガク', 'です', '。']"
            ]
          },
          "metadata": {},
          "execution_count": 6
        }
      ]
    },
    {
      "cell_type": "code",
      "source": [
        "mecab = MeCab.Tagger('-ochasen')"
      ],
      "metadata": {
        "id": "RwGjPNaITt8T"
      },
      "execution_count": 8,
      "outputs": []
    },
    {
      "cell_type": "code",
      "source": [
        "res = mecab.parse('こんにちは、私の名前はキカガクです。')\n",
        "print(res)"
      ],
      "metadata": {
        "colab": {
          "base_uri": "https://localhost:8080/"
        },
        "id": "Gkop54inT1rx",
        "outputId": "4b1547b7-1561-4cb9-f561-418aef8fd970"
      },
      "execution_count": 13,
      "outputs": [
        {
          "output_type": "stream",
          "name": "stdout",
          "text": [
            "こんにちは\tコンニチワ\tコンニチハ\t今日は\t感動詞-一般\t\t\t5\n",
            "、\t\t\t、\t補助記号-読点\t\t\t\n",
            "私\tワタクシ\tワタクシ\t私-代名詞\t代名詞\t\t\t0\n",
            "の\tノ\tノ\tの\t助詞-格助詞\t\t\t\n",
            "名前\tナマエ\tナマエ\t名前\t名詞-普通名詞-一般\t\t\t0\n",
            "は\tワ\tハ\tは\t助詞-係助詞\t\t\t\n",
            "キカガク\tキカガク\tキカガク\tキカガク\t名詞-普通名詞-一般\t\t\t0\n",
            "です\tデス\tデス\tです\t助動詞\t助動詞-デス\t終止形-一般\t\n",
            "。\t\t\t。\t補助記号-句点\t\t\t\n",
            "EOS\n",
            "\n"
          ]
        }
      ]
    },
    {
      "cell_type": "code",
      "source": [
        "res"
      ],
      "metadata": {
        "colab": {
          "base_uri": "https://localhost:8080/",
          "height": 69
        },
        "id": "Mr2ovq53UF9p",
        "outputId": "000f604f-f4d3-4b37-8340-80885f6fb67f"
      },
      "execution_count": 14,
      "outputs": [
        {
          "output_type": "execute_result",
          "data": {
            "text/plain": [
              "'こんにちは\\tコンニチワ\\tコンニチハ\\t今日は\\t感動詞-一般\\t\\t\\t5\\n、\\t\\t\\t、\\t補助記号-読点\\t\\t\\t\\n私\\tワタクシ\\tワタクシ\\t私-代名詞\\t代名詞\\t\\t\\t0\\nの\\tノ\\tノ\\tの\\t助詞-格助詞\\t\\t\\t\\n名前\\tナマエ\\tナマエ\\t名前\\t名詞-普通名詞-一般\\t\\t\\t0\\nは\\tワ\\tハ\\tは\\t助詞-係助詞\\t\\t\\t\\nキカガク\\tキカガク\\tキカガク\\tキカガク\\t名詞-普通名詞-一般\\t\\t\\t0\\nです\\tデス\\tデス\\tです\\t助動詞\\t助動詞-デス\\t終止形-一般\\t\\n。\\t\\t\\t。\\t補助記号-句点\\t\\t\\t\\nEOS\\n'"
            ],
            "application/vnd.google.colaboratory.intrinsic+json": {
              "type": "string"
            }
          },
          "metadata": {},
          "execution_count": 14
        }
      ]
    },
    {
      "cell_type": "code",
      "source": [
        "res = res.split('\\n')\n",
        "res"
      ],
      "metadata": {
        "colab": {
          "base_uri": "https://localhost:8080/"
        },
        "id": "28tSu-83UIgr",
        "outputId": "d07241ed-ad78-43ea-d030-1ba5ee0dd877"
      },
      "execution_count": 15,
      "outputs": [
        {
          "output_type": "execute_result",
          "data": {
            "text/plain": [
              "['こんにちは\\tコンニチワ\\tコンニチハ\\t今日は\\t感動詞-一般\\t\\t\\t5',\n",
              " '、\\t\\t\\t、\\t補助記号-読点\\t\\t\\t',\n",
              " '私\\tワタクシ\\tワタクシ\\t私-代名詞\\t代名詞\\t\\t\\t0',\n",
              " 'の\\tノ\\tノ\\tの\\t助詞-格助詞\\t\\t\\t',\n",
              " '名前\\tナマエ\\tナマエ\\t名前\\t名詞-普通名詞-一般\\t\\t\\t0',\n",
              " 'は\\tワ\\tハ\\tは\\t助詞-係助詞\\t\\t\\t',\n",
              " 'キカガク\\tキカガク\\tキカガク\\tキカガク\\t名詞-普通名詞-一般\\t\\t\\t0',\n",
              " 'です\\tデス\\tデス\\tです\\t助動詞\\t助動詞-デス\\t終止形-一般\\t',\n",
              " '。\\t\\t\\t。\\t補助記号-句点\\t\\t\\t',\n",
              " 'EOS',\n",
              " '']"
            ]
          },
          "metadata": {},
          "execution_count": 15
        }
      ]
    },
    {
      "cell_type": "code",
      "source": [
        "res[0]"
      ],
      "metadata": {
        "colab": {
          "base_uri": "https://localhost:8080/",
          "height": 35
        },
        "id": "yVKW4OxoUjjw",
        "outputId": "c6712e90-1b1e-4337-96b9-5bec633ccc7b"
      },
      "execution_count": 16,
      "outputs": [
        {
          "output_type": "execute_result",
          "data": {
            "text/plain": [
              "'こんにちは\\tコンニチワ\\tコンニチハ\\t今日は\\t感動詞-一般\\t\\t\\t5'"
            ],
            "application/vnd.google.colaboratory.intrinsic+json": {
              "type": "string"
            }
          },
          "metadata": {},
          "execution_count": 16
        }
      ]
    },
    {
      "cell_type": "code",
      "source": [
        "res[0].split('\\t')\n",
        "res = res = res[:-2]\n",
        "res"
      ],
      "metadata": {
        "colab": {
          "base_uri": "https://localhost:8080/"
        },
        "id": "e9GS6QE3VGHo",
        "outputId": "0bf6a436-f755-4cd7-defb-78a49decb2e1"
      },
      "execution_count": 17,
      "outputs": [
        {
          "output_type": "execute_result",
          "data": {
            "text/plain": [
              "['こんにちは\\tコンニチワ\\tコンニチハ\\t今日は\\t感動詞-一般\\t\\t\\t5',\n",
              " '、\\t\\t\\t、\\t補助記号-読点\\t\\t\\t',\n",
              " '私\\tワタクシ\\tワタクシ\\t私-代名詞\\t代名詞\\t\\t\\t0',\n",
              " 'の\\tノ\\tノ\\tの\\t助詞-格助詞\\t\\t\\t',\n",
              " '名前\\tナマエ\\tナマエ\\t名前\\t名詞-普通名詞-一般\\t\\t\\t0',\n",
              " 'は\\tワ\\tハ\\tは\\t助詞-係助詞\\t\\t\\t',\n",
              " 'キカガク\\tキカガク\\tキカガク\\tキカガク\\t名詞-普通名詞-一般\\t\\t\\t0',\n",
              " 'です\\tデス\\tデス\\tです\\t助動詞\\t助動詞-デス\\t終止形-一般\\t',\n",
              " '。\\t\\t\\t。\\t補助記号-句点\\t\\t\\t']"
            ]
          },
          "metadata": {},
          "execution_count": 17
        }
      ]
    },
    {
      "cell_type": "code",
      "source": [
        "res_2 = []\n",
        "for res_ in res:\n",
        "  res_2.append(res_.split('\\t'))\n",
        "\n",
        "res_2"
      ],
      "metadata": {
        "colab": {
          "base_uri": "https://localhost:8080/"
        },
        "id": "fqPBocAUVVps",
        "outputId": "f8bc1622-2937-41b5-9194-2fbfe9d65eb6"
      },
      "execution_count": 18,
      "outputs": [
        {
          "output_type": "execute_result",
          "data": {
            "text/plain": [
              "[['こんにちは', 'コンニチワ', 'コンニチハ', '今日は', '感動詞-一般', '', '', '5'],\n",
              " ['、', '', '', '、', '補助記号-読点', '', '', ''],\n",
              " ['私', 'ワタクシ', 'ワタクシ', '私-代名詞', '代名詞', '', '', '0'],\n",
              " ['の', 'ノ', 'ノ', 'の', '助詞-格助詞', '', '', ''],\n",
              " ['名前', 'ナマエ', 'ナマエ', '名前', '名詞-普通名詞-一般', '', '', '0'],\n",
              " ['は', 'ワ', 'ハ', 'は', '助詞-係助詞', '', '', ''],\n",
              " ['キカガク', 'キカガク', 'キカガク', 'キカガク', '名詞-普通名詞-一般', '', '', '0'],\n",
              " ['です', 'デス', 'デス', 'です', '助動詞', '助動詞-デス', '終止形-一般', ''],\n",
              " ['。', '', '', '。', '補助記号-句点', '', '', '']]"
            ]
          },
          "metadata": {},
          "execution_count": 18
        }
      ]
    },
    {
      "cell_type": "code",
      "source": [
        "text1 = 'キカガクでは、ディープラーニングを含んだ機械学習や人工知能の教育を行っています。'\n",
        "text2 = '代表の吉崎は大学院では機械学習・ロボットのシステム制御、画像処理の研究に携わっていました。'\n",
        "text3 = '機械学習、システム制御、画像処理ではすべて線形代数とプログラミングが不可欠になります。'"
      ],
      "metadata": {
        "id": "k5enEWB6VsLa"
      },
      "execution_count": 19,
      "outputs": []
    },
    {
      "cell_type": "code",
      "source": [
        "res = mecab.parse(text1)\n",
        "print(res)"
      ],
      "metadata": {
        "colab": {
          "base_uri": "https://localhost:8080/"
        },
        "id": "Vg_LsVOrVznm",
        "outputId": "4c4baaca-7a14-46c4-f446-9466e49327fa"
      },
      "execution_count": 20,
      "outputs": [
        {
          "output_type": "stream",
          "name": "stdout",
          "text": [
            "キカガク\tキカガク\tキカガク\tキカガク\t名詞-普通名詞-一般\t\t\t0\n",
            "で\tデ\tデ\tで\t助詞-格助詞\t\t\t\n",
            "は\tワ\tハ\tは\t助詞-係助詞\t\t\t\n",
            "、\t\t\t、\t補助記号-読点\t\t\t\n",
            "ディープ\tディープ\tディープ\tディープ-deep\t名詞-普通名詞-形状詞可能\t\t\t1\n",
            "ラーニング\tラーニング\tラーニング\tラーニング-learning\t名詞-普通名詞-一般\t\t\t1\n",
            "を\tオ\tヲ\tを\t助詞-格助詞\t\t\t\n",
            "含ん\tフクン\tフクム\t含む\t動詞-一般\t五段-マ行\t連用形-撥音便\t2\n",
            "だ\tダ\tタ\tた\t助動詞\t助動詞-タ\t連体形-一般\t\n",
            "機械\tキカイ\tキカイ\t機械\t名詞-普通名詞-一般\t\t\t2\n",
            "学習\tガクシュー\tガクシュウ\t学習\t名詞-普通名詞-サ変可能\t\t\t0\n",
            "や\tヤ\tヤ\tや\t助詞-副助詞\t\t\t\n",
            "人工\tジンコー\tジンコウ\t人工\t名詞-普通名詞-一般\t\t\t0\n",
            "知能\tチノー\tチノウ\t知能\t名詞-普通名詞-一般\t\t\t1\n",
            "の\tノ\tノ\tの\t助詞-格助詞\t\t\t\n",
            "教育\tキョーイク\tキョウイク\t教育\t名詞-普通名詞-サ変可能\t\t\t0\n",
            "を\tオ\tヲ\tを\t助詞-格助詞\t\t\t\n",
            "行っ\tオコナッ\tオコナウ\t行う\t動詞-一般\t五段-ワア行\t連用形-促音便\t0\n",
            "て\tテ\tテ\tて\t助詞-接続助詞\t\t\t\n",
            "い\tイ\tイル\t居る\t動詞-非自立可能\t上一段-ア行\t連用形-一般\t0\n",
            "ます\tマス\tマス\tます\t助動詞\t助動詞-マス\t終止形-一般\t\n",
            "。\t\t\t。\t補助記号-句点\t\t\t\n",
            "EOS\n",
            "\n"
          ]
        }
      ]
    },
    {
      "cell_type": "code",
      "source": [
        "res"
      ],
      "metadata": {
        "colab": {
          "base_uri": "https://localhost:8080/",
          "height": 137
        },
        "id": "DLY0IM02V6kE",
        "outputId": "cd132403-f0e4-4955-ab8b-404b05be8685"
      },
      "execution_count": 21,
      "outputs": [
        {
          "output_type": "execute_result",
          "data": {
            "text/plain": [
              "'キカガク\\tキカガク\\tキカガク\\tキカガク\\t名詞-普通名詞-一般\\t\\t\\t0\\nで\\tデ\\tデ\\tで\\t助詞-格助詞\\t\\t\\t\\nは\\tワ\\tハ\\tは\\t助詞-係助詞\\t\\t\\t\\n、\\t\\t\\t、\\t補助記号-読点\\t\\t\\t\\nディープ\\tディープ\\tディープ\\tディープ-deep\\t名詞-普通名詞-形状詞可能\\t\\t\\t1\\nラーニング\\tラーニング\\tラーニング\\tラーニング-learning\\t名詞-普通名詞-一般\\t\\t\\t1\\nを\\tオ\\tヲ\\tを\\t助詞-格助詞\\t\\t\\t\\n含ん\\tフクン\\tフクム\\t含む\\t動詞-一般\\t五段-マ行\\t連用形-撥音便\\t2\\nだ\\tダ\\tタ\\tた\\t助動詞\\t助動詞-タ\\t連体形-一般\\t\\n機械\\tキカイ\\tキカイ\\t機械\\t名詞-普通名詞-一般\\t\\t\\t2\\n学習\\tガクシュー\\tガクシュウ\\t学習\\t名詞-普通名詞-サ変可能\\t\\t\\t0\\nや\\tヤ\\tヤ\\tや\\t助詞-副助詞\\t\\t\\t\\n人工\\tジンコー\\tジンコウ\\t人工\\t名詞-普通名詞-一般\\t\\t\\t0\\n知能\\tチノー\\tチノウ\\t知能\\t名詞-普通名詞-一般\\t\\t\\t1\\nの\\tノ\\tノ\\tの\\t助詞-格助詞\\t\\t\\t\\n教育\\tキョーイク\\tキョウイク\\t教育\\t名詞-普通名詞-サ変可能\\t\\t\\t0\\nを\\tオ\\tヲ\\tを\\t助詞-格助詞\\t\\t\\t\\n行っ\\tオコナッ\\tオコナウ\\t行う\\t動詞-一般\\t五段-ワア行\\t連用形-促音便\\t0\\nて\\tテ\\tテ\\tて\\t助詞-接続助詞\\t\\t\\t\\nい\\tイ\\tイル\\t居る\\t動詞-非自立可能\\t上一段-ア行\\t連用形-一般\\t0\\nます\\tマス\\tマス\\tます\\t助動詞\\t助動詞-マス\\t終止形-一般\\t\\n。\\t\\t\\t。\\t補助記号-句点\\t\\t\\t\\nEOS\\n'"
            ],
            "application/vnd.google.colaboratory.intrinsic+json": {
              "type": "string"
            }
          },
          "metadata": {},
          "execution_count": 21
        }
      ]
    },
    {
      "cell_type": "code",
      "source": [
        "res.split('\\n')"
      ],
      "metadata": {
        "colab": {
          "base_uri": "https://localhost:8080/"
        },
        "id": "Y65mpSaeV8e6",
        "outputId": "9d750a38-7440-4f49-853c-6df8b5fe0d3e"
      },
      "execution_count": 22,
      "outputs": [
        {
          "output_type": "execute_result",
          "data": {
            "text/plain": [
              "['キカガク\\tキカガク\\tキカガク\\tキカガク\\t名詞-普通名詞-一般\\t\\t\\t0',\n",
              " 'で\\tデ\\tデ\\tで\\t助詞-格助詞\\t\\t\\t',\n",
              " 'は\\tワ\\tハ\\tは\\t助詞-係助詞\\t\\t\\t',\n",
              " '、\\t\\t\\t、\\t補助記号-読点\\t\\t\\t',\n",
              " 'ディープ\\tディープ\\tディープ\\tディープ-deep\\t名詞-普通名詞-形状詞可能\\t\\t\\t1',\n",
              " 'ラーニング\\tラーニング\\tラーニング\\tラーニング-learning\\t名詞-普通名詞-一般\\t\\t\\t1',\n",
              " 'を\\tオ\\tヲ\\tを\\t助詞-格助詞\\t\\t\\t',\n",
              " '含ん\\tフクン\\tフクム\\t含む\\t動詞-一般\\t五段-マ行\\t連用形-撥音便\\t2',\n",
              " 'だ\\tダ\\tタ\\tた\\t助動詞\\t助動詞-タ\\t連体形-一般\\t',\n",
              " '機械\\tキカイ\\tキカイ\\t機械\\t名詞-普通名詞-一般\\t\\t\\t2',\n",
              " '学習\\tガクシュー\\tガクシュウ\\t学習\\t名詞-普通名詞-サ変可能\\t\\t\\t0',\n",
              " 'や\\tヤ\\tヤ\\tや\\t助詞-副助詞\\t\\t\\t',\n",
              " '人工\\tジンコー\\tジンコウ\\t人工\\t名詞-普通名詞-一般\\t\\t\\t0',\n",
              " '知能\\tチノー\\tチノウ\\t知能\\t名詞-普通名詞-一般\\t\\t\\t1',\n",
              " 'の\\tノ\\tノ\\tの\\t助詞-格助詞\\t\\t\\t',\n",
              " '教育\\tキョーイク\\tキョウイク\\t教育\\t名詞-普通名詞-サ変可能\\t\\t\\t0',\n",
              " 'を\\tオ\\tヲ\\tを\\t助詞-格助詞\\t\\t\\t',\n",
              " '行っ\\tオコナッ\\tオコナウ\\t行う\\t動詞-一般\\t五段-ワア行\\t連用形-促音便\\t0',\n",
              " 'て\\tテ\\tテ\\tて\\t助詞-接続助詞\\t\\t\\t',\n",
              " 'い\\tイ\\tイル\\t居る\\t動詞-非自立可能\\t上一段-ア行\\t連用形-一般\\t0',\n",
              " 'ます\\tマス\\tマス\\tます\\t助動詞\\t助動詞-マス\\t終止形-一般\\t',\n",
              " '。\\t\\t\\t。\\t補助記号-句点\\t\\t\\t',\n",
              " 'EOS',\n",
              " '']"
            ]
          },
          "metadata": {},
          "execution_count": 22
        }
      ]
    },
    {
      "cell_type": "code",
      "source": [
        "res.split('\\n')[:-2]"
      ],
      "metadata": {
        "colab": {
          "base_uri": "https://localhost:8080/"
        },
        "id": "pFlwUTY0WA8g",
        "outputId": "361bb62f-dc79-45d5-cd7f-b71fe6563352"
      },
      "execution_count": 23,
      "outputs": [
        {
          "output_type": "execute_result",
          "data": {
            "text/plain": [
              "['キカガク\\tキカガク\\tキカガク\\tキカガク\\t名詞-普通名詞-一般\\t\\t\\t0',\n",
              " 'で\\tデ\\tデ\\tで\\t助詞-格助詞\\t\\t\\t',\n",
              " 'は\\tワ\\tハ\\tは\\t助詞-係助詞\\t\\t\\t',\n",
              " '、\\t\\t\\t、\\t補助記号-読点\\t\\t\\t',\n",
              " 'ディープ\\tディープ\\tディープ\\tディープ-deep\\t名詞-普通名詞-形状詞可能\\t\\t\\t1',\n",
              " 'ラーニング\\tラーニング\\tラーニング\\tラーニング-learning\\t名詞-普通名詞-一般\\t\\t\\t1',\n",
              " 'を\\tオ\\tヲ\\tを\\t助詞-格助詞\\t\\t\\t',\n",
              " '含ん\\tフクン\\tフクム\\t含む\\t動詞-一般\\t五段-マ行\\t連用形-撥音便\\t2',\n",
              " 'だ\\tダ\\tタ\\tた\\t助動詞\\t助動詞-タ\\t連体形-一般\\t',\n",
              " '機械\\tキカイ\\tキカイ\\t機械\\t名詞-普通名詞-一般\\t\\t\\t2',\n",
              " '学習\\tガクシュー\\tガクシュウ\\t学習\\t名詞-普通名詞-サ変可能\\t\\t\\t0',\n",
              " 'や\\tヤ\\tヤ\\tや\\t助詞-副助詞\\t\\t\\t',\n",
              " '人工\\tジンコー\\tジンコウ\\t人工\\t名詞-普通名詞-一般\\t\\t\\t0',\n",
              " '知能\\tチノー\\tチノウ\\t知能\\t名詞-普通名詞-一般\\t\\t\\t1',\n",
              " 'の\\tノ\\tノ\\tの\\t助詞-格助詞\\t\\t\\t',\n",
              " '教育\\tキョーイク\\tキョウイク\\t教育\\t名詞-普通名詞-サ変可能\\t\\t\\t0',\n",
              " 'を\\tオ\\tヲ\\tを\\t助詞-格助詞\\t\\t\\t',\n",
              " '行っ\\tオコナッ\\tオコナウ\\t行う\\t動詞-一般\\t五段-ワア行\\t連用形-促音便\\t0',\n",
              " 'て\\tテ\\tテ\\tて\\t助詞-接続助詞\\t\\t\\t',\n",
              " 'い\\tイ\\tイル\\t居る\\t動詞-非自立可能\\t上一段-ア行\\t連用形-一般\\t0',\n",
              " 'ます\\tマス\\tマス\\tます\\t助動詞\\t助動詞-マス\\t終止形-一般\\t',\n",
              " '。\\t\\t\\t。\\t補助記号-句点\\t\\t\\t']"
            ]
          },
          "metadata": {},
          "execution_count": 23
        }
      ]
    },
    {
      "cell_type": "code",
      "source": [
        "res.split('\\n')[0]"
      ],
      "metadata": {
        "colab": {
          "base_uri": "https://localhost:8080/",
          "height": 35
        },
        "id": "NHfigrAzWH-G",
        "outputId": "d3e7ba66-a71c-46b8-e372-ee4937590ac1"
      },
      "execution_count": 24,
      "outputs": [
        {
          "output_type": "execute_result",
          "data": {
            "text/plain": [
              "'キカガク\\tキカガク\\tキカガク\\tキカガク\\t名詞-普通名詞-一般\\t\\t\\t0'"
            ],
            "application/vnd.google.colaboratory.intrinsic+json": {
              "type": "string"
            }
          },
          "metadata": {},
          "execution_count": 24
        }
      ]
    },
    {
      "cell_type": "code",
      "source": [
        "res.split('\\n')[0].split('\\t')[4]"
      ],
      "metadata": {
        "colab": {
          "base_uri": "https://localhost:8080/",
          "height": 35
        },
        "id": "tq62N5TKWNNe",
        "outputId": "1fbdcd60-05ef-4e52-8081-e4ff887913c1"
      },
      "execution_count": 25,
      "outputs": [
        {
          "output_type": "execute_result",
          "data": {
            "text/plain": [
              "'名詞-普通名詞-一般'"
            ],
            "application/vnd.google.colaboratory.intrinsic+json": {
              "type": "string"
            }
          },
          "metadata": {},
          "execution_count": 25
        }
      ]
    },
    {
      "cell_type": "code",
      "source": [
        "nouns = []\n",
        "res = mecab.parse(text1)\n",
        "words = res.split('\\n')[:-2]\n",
        "for word in words:\n",
        "  part = word.split('\\t')\n",
        "  if '名詞' in part[4]:\n",
        "    nouns.append(part[0])"
      ],
      "metadata": {
        "id": "g8zYZPAHWXCJ"
      },
      "execution_count": 26,
      "outputs": []
    },
    {
      "cell_type": "code",
      "source": [
        "nouns\n"
      ],
      "metadata": {
        "colab": {
          "base_uri": "https://localhost:8080/"
        },
        "id": "FG2fiLt-W5h8",
        "outputId": "15b184fd-b919-4fec-856b-d7622cc73a86"
      },
      "execution_count": 27,
      "outputs": [
        {
          "output_type": "execute_result",
          "data": {
            "text/plain": [
              "['キカガク', 'ディープ', 'ラーニング', '機械', '学習', '人工', '知能', '教育']"
            ]
          },
          "metadata": {},
          "execution_count": 27
        }
      ]
    },
    {
      "cell_type": "code",
      "source": [
        "def get_nouns(text):\n",
        "  nouns = []\n",
        "  res = mecab.parse(text)\n",
        "  words = res.split('\\n')[:-2]\n",
        "  for word in words:\n",
        "    part = word.split('\\t')\n",
        "    if '名詞' in part[4]:\n",
        "      nouns.append(part[0])\n",
        "  return nouns"
      ],
      "metadata": {
        "id": "gifMWjFtW7SS"
      },
      "execution_count": 28,
      "outputs": []
    },
    {
      "cell_type": "code",
      "source": [
        "nouns1 = get_nouns(text1)\n",
        "nouns1"
      ],
      "metadata": {
        "colab": {
          "base_uri": "https://localhost:8080/"
        },
        "id": "oFLYX4hHXiqy",
        "outputId": "a7270a63-9f72-4126-d891-2e104dbb5a63"
      },
      "execution_count": 29,
      "outputs": [
        {
          "output_type": "execute_result",
          "data": {
            "text/plain": [
              "['キカガク', 'ディープ', 'ラーニング', '機械', '学習', '人工', '知能', '教育']"
            ]
          },
          "metadata": {},
          "execution_count": 29
        }
      ]
    },
    {
      "cell_type": "code",
      "source": [
        "nouns2 = get_nouns(text2)\n",
        "nouns2"
      ],
      "metadata": {
        "colab": {
          "base_uri": "https://localhost:8080/"
        },
        "id": "cmYuQODMXpTJ",
        "outputId": "976ed745-8df9-48ea-f56f-856518eef2d9"
      },
      "execution_count": 30,
      "outputs": [
        {
          "output_type": "execute_result",
          "data": {
            "text/plain": [
              "['代表', '吉崎', '大学', '院', '機械', '学習', 'ロボット', 'システム', '制御', '画像', '処理', '研究']"
            ]
          },
          "metadata": {},
          "execution_count": 30
        }
      ]
    },
    {
      "cell_type": "code",
      "source": [
        "nouns3 = get_nouns(text3)\n",
        "nouns3"
      ],
      "metadata": {
        "colab": {
          "base_uri": "https://localhost:8080/"
        },
        "id": "sAKRT62WXv8e",
        "outputId": "179d9725-1899-4127-a3a2-9ac1ac3cd478"
      },
      "execution_count": 31,
      "outputs": [
        {
          "output_type": "execute_result",
          "data": {
            "text/plain": [
              "['機械', '学習', 'システム', '制御', '画像', '処理', 'すべて', '線形', '代数', 'プログラミング']"
            ]
          },
          "metadata": {},
          "execution_count": 31
        }
      ]
    },
    {
      "cell_type": "code",
      "source": [
        "' '.join(nouns1)"
      ],
      "metadata": {
        "colab": {
          "base_uri": "https://localhost:8080/",
          "height": 35
        },
        "id": "89K2XSLdX4L8",
        "outputId": "3c33c1f9-b0c2-46a8-aae3-241efe9847ed"
      },
      "execution_count": 32,
      "outputs": [
        {
          "output_type": "execute_result",
          "data": {
            "text/plain": [
              "'キカガク ディープ ラーニング 機械 学習 人工 知能 教育'"
            ],
            "application/vnd.google.colaboratory.intrinsic+json": {
              "type": "string"
            }
          },
          "metadata": {},
          "execution_count": 32
        }
      ]
    },
    {
      "cell_type": "code",
      "source": [
        "nouns_list = [nouns1, nouns2, nouns3]\n",
        "corpus = []\n",
        "for nouns in nouns_list:\n",
        "  corpus.append(' '.join(nouns))"
      ],
      "metadata": {
        "id": "uI01MKcnYCmJ"
      },
      "execution_count": 33,
      "outputs": []
    },
    {
      "cell_type": "code",
      "source": [
        "corpus"
      ],
      "metadata": {
        "colab": {
          "base_uri": "https://localhost:8080/"
        },
        "id": "fAC3qEUqYWdm",
        "outputId": "250f2733-1bf7-4350-e1ad-9d79984bd326"
      },
      "execution_count": 34,
      "outputs": [
        {
          "output_type": "execute_result",
          "data": {
            "text/plain": [
              "['キカガク ディープ ラーニング 機械 学習 人工 知能 教育',\n",
              " '代表 吉崎 大学 院 機械 学習 ロボット システム 制御 画像 処理 研究',\n",
              " '機械 学習 システム 制御 画像 処理 すべて 線形 代数 プログラミング']"
            ]
          },
          "metadata": {},
          "execution_count": 34
        }
      ]
    },
    {
      "cell_type": "code",
      "source": [
        "from sklearn.feature_extraction.text import CountVectorizer\n",
        "vectorizer = CountVectorizer()\n",
        "x = vectorizer.fit_transform(corpus)"
      ],
      "metadata": {
        "id": "21vvtjlHYY62"
      },
      "execution_count": 35,
      "outputs": []
    },
    {
      "cell_type": "code",
      "source": [
        "vectorizer.vocabulary_"
      ],
      "metadata": {
        "colab": {
          "base_uri": "https://localhost:8080/"
        },
        "id": "rt7znwrfYzr_",
        "outputId": "332c29e7-db09-4ec3-ba72-f82831d89b56"
      },
      "execution_count": 36,
      "outputs": [
        {
          "output_type": "execute_result",
          "data": {
            "text/plain": [
              "{'キカガク': 1,\n",
              " 'ディープ': 3,\n",
              " 'ラーニング': 5,\n",
              " '機械': 16,\n",
              " '学習': 14,\n",
              " '人工': 7,\n",
              " '知能': 18,\n",
              " '教育': 15,\n",
              " '代表': 9,\n",
              " '吉崎': 12,\n",
              " '大学': 13,\n",
              " 'ロボット': 6,\n",
              " 'システム': 2,\n",
              " '制御': 11,\n",
              " '画像': 17,\n",
              " '処理': 10,\n",
              " '研究': 19,\n",
              " 'すべて': 0,\n",
              " '線形': 20,\n",
              " '代数': 8,\n",
              " 'プログラミング': 4}"
            ]
          },
          "metadata": {},
          "execution_count": 36
        }
      ]
    },
    {
      "cell_type": "code",
      "source": [
        "x = x.toarray()\n",
        "print(x)"
      ],
      "metadata": {
        "colab": {
          "base_uri": "https://localhost:8080/"
        },
        "id": "3HbW6S5YY4bL",
        "outputId": "66620432-7485-4d8a-93b7-58cce8d8ba6c"
      },
      "execution_count": 37,
      "outputs": [
        {
          "output_type": "stream",
          "name": "stdout",
          "text": [
            "[[0 1 0 1 0 1 0 1 0 0 0 0 0 0 1 1 1 0 1 0 0]\n",
            " [0 0 1 0 0 0 1 0 0 1 1 1 1 1 1 0 1 1 0 1 0]\n",
            " [1 0 1 0 1 0 0 0 1 0 1 1 0 0 1 0 1 1 0 0 1]]\n"
          ]
        }
      ]
    },
    {
      "cell_type": "code",
      "source": [
        "text1 = 'ディープラーニングは機械学習アルゴリズムのひとつです。'\n",
        "text2 = 'もちろん、ディープラーニング以外にも決定木やロジスティック回帰といった他の機械学習アルゴリズムも存在します。'\n",
        "text3 = 'ディープラーニングは機械学習アルゴリズムの一種ではありますが、他のアルゴリズムと比べて画像認識や自然言語処理の分野で大きな進展をもたらしました。'"
      ],
      "metadata": {
        "id": "7wK0BDAKY-kU"
      },
      "execution_count": 38,
      "outputs": []
    },
    {
      "cell_type": "code",
      "source": [
        "nouns1 = get_nouns(text1)\n",
        "nouns1"
      ],
      "metadata": {
        "colab": {
          "base_uri": "https://localhost:8080/"
        },
        "id": "NhJeLrixZPAX",
        "outputId": "42fa1265-843f-4e6b-affa-065dc0a2f67e"
      },
      "execution_count": 39,
      "outputs": [
        {
          "output_type": "execute_result",
          "data": {
            "text/plain": [
              "['ディープ', 'ラーニング', '機械', '学習', 'アルゴリズム', 'ひと', 'つ']"
            ]
          },
          "metadata": {},
          "execution_count": 39
        }
      ]
    },
    {
      "cell_type": "code",
      "source": [
        "nouns2 = get_nouns(text2)\n",
        "nouns2"
      ],
      "metadata": {
        "colab": {
          "base_uri": "https://localhost:8080/"
        },
        "id": "EYvHYEggZV8f",
        "outputId": "4c86e830-ed32-49fc-8b27-f574b39eb3b6"
      },
      "execution_count": 40,
      "outputs": [
        {
          "output_type": "execute_result",
          "data": {
            "text/plain": [
              "['ディープ',\n",
              " 'ラーニング',\n",
              " '以外',\n",
              " '決定',\n",
              " '木',\n",
              " 'ロジスティック',\n",
              " '回帰',\n",
              " '他',\n",
              " '機械',\n",
              " '学習',\n",
              " 'アルゴリズム',\n",
              " '存在']"
            ]
          },
          "metadata": {},
          "execution_count": 40
        }
      ]
    },
    {
      "cell_type": "code",
      "source": [
        "nouns3 = get_nouns(text3)\n",
        "nouns3"
      ],
      "metadata": {
        "colab": {
          "base_uri": "https://localhost:8080/"
        },
        "id": "IfiFNrMVZZSO",
        "outputId": "d0fa39c3-7e53-4c69-a414-f1cab38cd8da"
      },
      "execution_count": 41,
      "outputs": [
        {
          "output_type": "execute_result",
          "data": {
            "text/plain": [
              "['ディープ',\n",
              " 'ラーニング',\n",
              " '機械',\n",
              " '学習',\n",
              " 'アルゴリズム',\n",
              " '一種',\n",
              " '他',\n",
              " 'アルゴリズム',\n",
              " '画像',\n",
              " '認識',\n",
              " '自然',\n",
              " '言語',\n",
              " '処理',\n",
              " '分野',\n",
              " '進展']"
            ]
          },
          "metadata": {},
          "execution_count": 41
        }
      ]
    },
    {
      "cell_type": "code",
      "source": [
        "nouns_list = [nouns1, nouns2, nouns3]\n",
        "corpus = []\n",
        "for nouns in nouns_list:\n",
        "    corpus.append(' '.join(nouns))"
      ],
      "metadata": {
        "id": "NGxabQ6YZft2"
      },
      "execution_count": 42,
      "outputs": []
    },
    {
      "cell_type": "code",
      "source": [
        "from sklearn.feature_extraction.text import CountVectorizer\n",
        "vectorizer = CountVectorizer()\n",
        "x = vectorizer.fit_transform(corpus)\n",
        "vectorizer.vocabulary_"
      ],
      "metadata": {
        "colab": {
          "base_uri": "https://localhost:8080/"
        },
        "id": "9xbMKtKbZlGS",
        "outputId": "9c03639e-2214-4d86-de57-db2e49cdef80"
      },
      "execution_count": 43,
      "outputs": [
        {
          "output_type": "execute_result",
          "data": {
            "text/plain": [
              "{'ディープ': 2,\n",
              " 'ラーニング': 3,\n",
              " '機械': 12,\n",
              " '学習': 11,\n",
              " 'アルゴリズム': 1,\n",
              " 'ひと': 0,\n",
              " '以外': 6,\n",
              " '決定': 13,\n",
              " 'ロジスティック': 4,\n",
              " '回帰': 9,\n",
              " '存在': 10,\n",
              " '一種': 5,\n",
              " '画像': 14,\n",
              " '認識': 17,\n",
              " '自然': 15,\n",
              " '言語': 16,\n",
              " '処理': 7,\n",
              " '分野': 8,\n",
              " '進展': 18}"
            ]
          },
          "metadata": {},
          "execution_count": 43
        }
      ]
    },
    {
      "cell_type": "code",
      "source": [
        "x = x.toarray()\n",
        "print(x)"
      ],
      "metadata": {
        "colab": {
          "base_uri": "https://localhost:8080/"
        },
        "id": "oBHk2KsJZqDb",
        "outputId": "fcc7de58-9412-44f1-8b1d-880b58e628fc"
      },
      "execution_count": 44,
      "outputs": [
        {
          "output_type": "stream",
          "name": "stdout",
          "text": [
            "[[1 1 1 1 0 0 0 0 0 0 0 1 1 0 0 0 0 0 0]\n",
            " [0 1 1 1 1 0 1 0 0 1 1 1 1 1 0 0 0 0 0]\n",
            " [0 2 1 1 0 1 0 1 1 0 0 1 1 0 1 1 1 1 1]]\n"
          ]
        }
      ]
    },
    {
      "cell_type": "code",
      "source": [],
      "metadata": {
        "id": "Uz1U5CgeZsnq"
      },
      "execution_count": null,
      "outputs": []
    }
  ]
}