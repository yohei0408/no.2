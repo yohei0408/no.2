{
  "nbformat": 4,
  "nbformat_minor": 0,
  "metadata": {
    "colab": {
      "provenance": [],
      "authorship_tag": "ABX9TyM4EQJlrVLDhONKM2D0LRUI",
      "include_colab_link": true
    },
    "kernelspec": {
      "name": "python3",
      "display_name": "Python 3"
    },
    "language_info": {
      "name": "python"
    }
  },
  "cells": [
    {
      "cell_type": "markdown",
      "metadata": {
        "id": "view-in-github",
        "colab_type": "text"
      },
      "source": [
        "<a href=\"https://colab.research.google.com/github/yohei0408/no.2/blob/main/python%E3%81%AE%E8%A8%80%E8%AA%9E%E4%BB%95%E6%A7%98.ipynb\" target=\"_parent\"><img src=\"https://colab.research.google.com/assets/colab-badge.svg\" alt=\"Open In Colab\"/></a>"
      ]
    },
    {
      "cell_type": "code",
      "execution_count": 1,
      "metadata": {
        "colab": {
          "base_uri": "https://localhost:8080/",
          "height": 156
        },
        "id": "6T44zyINdEWl",
        "outputId": "ebda1c95-5962-4f2d-a5df-c3d87c66bceb"
      },
      "outputs": [
        {
          "output_type": "error",
          "ename": "ZeroDivisionError",
          "evalue": "division by zero",
          "traceback": [
            "\u001b[0;31m---------------------------------------------------------------------------\u001b[0m",
            "\u001b[0;31mZeroDivisionError\u001b[0m                         Traceback (most recent call last)",
            "\u001b[0;32m<ipython-input-1-b944e28708ad>\u001b[0m in \u001b[0;36m<cell line: 2>\u001b[0;34m()\u001b[0m\n\u001b[1;32m      1\u001b[0m \u001b[0;31m# 例外処理\u001b[0m\u001b[0;34m\u001b[0m\u001b[0;34m\u001b[0m\u001b[0m\n\u001b[0;32m----> 2\u001b[0;31m \u001b[0mnum\u001b[0m \u001b[0;34m=\u001b[0m \u001b[0;36m10\u001b[0m \u001b[0;34m/\u001b[0m \u001b[0;36m0\u001b[0m\u001b[0;34m\u001b[0m\u001b[0;34m\u001b[0m\u001b[0m\n\u001b[0m",
            "\u001b[0;31mZeroDivisionError\u001b[0m: division by zero"
          ]
        }
      ],
      "source": [
        "# 例外処理\n",
        "num = 10 / 0"
      ]
    },
    {
      "cell_type": "code",
      "source": [
        "try:\n",
        "  num = 10 / 0\n",
        "  print(f'除算の結果は{num}になります')\n",
        "except ZeroDivisionError:\n",
        "  print('0で割ることはできません')"
      ],
      "metadata": {
        "colab": {
          "base_uri": "https://localhost:8080/"
        },
        "id": "TL4nQy11dNge",
        "outputId": "4b8ffd60-5df9-407d-9834-e4c6c5f5968c"
      },
      "execution_count": 6,
      "outputs": [
        {
          "output_type": "stream",
          "name": "stdout",
          "text": [
            "0で割ることはできません\n"
          ]
        }
      ]
    },
    {
      "cell_type": "code",
      "source": [
        "num = 10 / '2'"
      ],
      "metadata": {
        "colab": {
          "base_uri": "https://localhost:8080/",
          "height": 139
        },
        "id": "zBRsRKEydxOn",
        "outputId": "0e2f8400-2074-401d-9987-77cfb9abe820"
      },
      "execution_count": 7,
      "outputs": [
        {
          "output_type": "error",
          "ename": "TypeError",
          "evalue": "unsupported operand type(s) for /: 'int' and 'str'",
          "traceback": [
            "\u001b[0;31m---------------------------------------------------------------------------\u001b[0m",
            "\u001b[0;31mTypeError\u001b[0m                                 Traceback (most recent call last)",
            "\u001b[0;32m<ipython-input-7-cc8a402052dd>\u001b[0m in \u001b[0;36m<cell line: 1>\u001b[0;34m()\u001b[0m\n\u001b[0;32m----> 1\u001b[0;31m \u001b[0mnum\u001b[0m \u001b[0;34m=\u001b[0m \u001b[0;36m10\u001b[0m \u001b[0;34m/\u001b[0m \u001b[0;34m'2'\u001b[0m\u001b[0;34m\u001b[0m\u001b[0;34m\u001b[0m\u001b[0m\n\u001b[0m",
            "\u001b[0;31mTypeError\u001b[0m: unsupported operand type(s) for /: 'int' and 'str'"
          ]
        }
      ]
    },
    {
      "cell_type": "code",
      "source": [
        "try:\n",
        "  num = 10 / '2'\n",
        "except ZeroDivisionError:\n",
        "  print('0で割ることはできません')\n",
        "except TypeError:\n",
        "  print('文字列で割ることはできません')"
      ],
      "metadata": {
        "colab": {
          "base_uri": "https://localhost:8080/"
        },
        "id": "susMbqVveboG",
        "outputId": "935585d0-d0d1-4c0e-af7d-22c850ce61b2"
      },
      "execution_count": 8,
      "outputs": [
        {
          "output_type": "stream",
          "name": "stdout",
          "text": [
            "文字列で割ることはできません\n"
          ]
        }
      ]
    },
    {
      "cell_type": "code",
      "source": [
        "try:\n",
        "  num = 10 / 0\n",
        "  print(f'除算の結果は{num}になります')\n",
        "except (ZeroDivisionError, TypeError, NameError) as e:\n",
        "  print(f' Exception class: {type(e)}')\n",
        "  print(f' Exception occurred: {e}')"
      ],
      "metadata": {
        "colab": {
          "base_uri": "https://localhost:8080/"
        },
        "id": "G7Xk4HKle5kA",
        "outputId": "737e2a59-f680-4321-d426-b0f1c2869ee2"
      },
      "execution_count": 12,
      "outputs": [
        {
          "output_type": "stream",
          "name": "stdout",
          "text": [
            " Exception class: <class 'ZeroDivisionError'>\n",
            " Exception occurred: division by zero\n"
          ]
        }
      ]
    },
    {
      "cell_type": "code",
      "source": [
        "try:\n",
        "  num = 10 / 5\n",
        "except ZeroDivisionError:\n",
        "  print('0で割ることはできません')\n",
        "else:\n",
        "  print(f'除算の結果は{num}になります')"
      ],
      "metadata": {
        "colab": {
          "base_uri": "https://localhost:8080/"
        },
        "id": "Ym5RkBfhgKOS",
        "outputId": "aec0e70e-fc84-4fb9-a78d-b9031247bf1f"
      },
      "execution_count": 15,
      "outputs": [
        {
          "output_type": "stream",
          "name": "stdout",
          "text": [
            "除算の結果は2.0になります\n"
          ]
        }
      ]
    },
    {
      "cell_type": "code",
      "source": [
        "f = None\n",
        "try:\n",
        "  f = open('python.txt',mode='w')\n",
        "  f.write(data)\n",
        "finally:\n",
        "  if f:\n",
        "    f.close()\n",
        "    print('ファイルを閉じました')"
      ],
      "metadata": {
        "colab": {
          "base_uri": "https://localhost:8080/",
          "height": 224
        },
        "id": "Xbn_8YsBhGIq",
        "outputId": "436d4a75-31ae-4f22-d760-4421ed04c00d"
      },
      "execution_count": 16,
      "outputs": [
        {
          "output_type": "stream",
          "name": "stdout",
          "text": [
            "ファイルを閉じました\n"
          ]
        },
        {
          "output_type": "error",
          "ename": "NameError",
          "evalue": "name 'data' is not defined",
          "traceback": [
            "\u001b[0;31m---------------------------------------------------------------------------\u001b[0m",
            "\u001b[0;31mNameError\u001b[0m                                 Traceback (most recent call last)",
            "\u001b[0;32m<ipython-input-16-02c1956799a8>\u001b[0m in \u001b[0;36m<cell line: 2>\u001b[0;34m()\u001b[0m\n\u001b[1;32m      2\u001b[0m \u001b[0;32mtry\u001b[0m\u001b[0;34m:\u001b[0m\u001b[0;34m\u001b[0m\u001b[0;34m\u001b[0m\u001b[0m\n\u001b[1;32m      3\u001b[0m   \u001b[0mf\u001b[0m \u001b[0;34m=\u001b[0m \u001b[0mopen\u001b[0m\u001b[0;34m(\u001b[0m\u001b[0;34m'python.txt'\u001b[0m\u001b[0;34m,\u001b[0m\u001b[0mmode\u001b[0m\u001b[0;34m=\u001b[0m\u001b[0;34m'w'\u001b[0m\u001b[0;34m)\u001b[0m\u001b[0;34m\u001b[0m\u001b[0;34m\u001b[0m\u001b[0m\n\u001b[0;32m----> 4\u001b[0;31m   \u001b[0mf\u001b[0m\u001b[0;34m.\u001b[0m\u001b[0mwrite\u001b[0m\u001b[0;34m(\u001b[0m\u001b[0mdata\u001b[0m\u001b[0;34m)\u001b[0m\u001b[0;34m\u001b[0m\u001b[0;34m\u001b[0m\u001b[0m\n\u001b[0m\u001b[1;32m      5\u001b[0m \u001b[0;32mfinally\u001b[0m\u001b[0;34m:\u001b[0m\u001b[0;34m\u001b[0m\u001b[0;34m\u001b[0m\u001b[0m\n\u001b[1;32m      6\u001b[0m   \u001b[0;32mif\u001b[0m \u001b[0mf\u001b[0m\u001b[0;34m:\u001b[0m\u001b[0;34m\u001b[0m\u001b[0;34m\u001b[0m\u001b[0m\n",
            "\u001b[0;31mNameError\u001b[0m: name 'data' is not defined"
          ]
        }
      ]
    },
    {
      "cell_type": "code",
      "source": [
        "try:\n",
        "  num = 10 / 0\n",
        "  print(f'除算の結果は{num}になります')\n",
        "except ArithmeticError as e:\n",
        "  print(f' Exception class: {type(e)}')\n",
        "  print(f' Exception occured: {e}')"
      ],
      "metadata": {
        "colab": {
          "base_uri": "https://localhost:8080/"
        },
        "id": "wAKitgSAhzIK",
        "outputId": "5fd2bfcc-34e3-47fc-bc3d-aba89f15d1e9"
      },
      "execution_count": 17,
      "outputs": [
        {
          "output_type": "stream",
          "name": "stdout",
          "text": [
            " Exception class: <class 'ZeroDivisionError'>\n",
            " Exception occured: division by zero\n"
          ]
        }
      ]
    },
    {
      "cell_type": "code",
      "source": [
        "class MyError(Exception):\n",
        "  pass\n",
        "\n",
        "raise MyError('MyErrorが発生しました')"
      ],
      "metadata": {
        "colab": {
          "base_uri": "https://localhost:8080/",
          "height": 173
        },
        "id": "AFEkifokjuLO",
        "outputId": "be7718f2-bcab-4f8f-d726-eb0823737f80"
      },
      "execution_count": 19,
      "outputs": [
        {
          "output_type": "error",
          "ename": "MyError",
          "evalue": "MyErrorが発生しました",
          "traceback": [
            "\u001b[0;31m---------------------------------------------------------------------------\u001b[0m",
            "\u001b[0;31mMyError\u001b[0m                                   Traceback (most recent call last)",
            "\u001b[0;32m<ipython-input-19-655aa95f2e08>\u001b[0m in \u001b[0;36m<cell line: 4>\u001b[0;34m()\u001b[0m\n\u001b[1;32m      2\u001b[0m   \u001b[0;32mpass\u001b[0m\u001b[0;34m\u001b[0m\u001b[0;34m\u001b[0m\u001b[0m\n\u001b[1;32m      3\u001b[0m \u001b[0;34m\u001b[0m\u001b[0m\n\u001b[0;32m----> 4\u001b[0;31m \u001b[0;32mraise\u001b[0m \u001b[0mMyError\u001b[0m\u001b[0;34m(\u001b[0m\u001b[0;34m'MyErrorが発生しました'\u001b[0m\u001b[0;34m)\u001b[0m\u001b[0;34m\u001b[0m\u001b[0;34m\u001b[0m\u001b[0m\n\u001b[0m",
            "\u001b[0;31mMyError\u001b[0m: MyErrorが発生しました"
          ]
        }
      ]
    },
    {
      "cell_type": "code",
      "source": [
        "class MyValidateError(Exception):\n",
        "  title = None\n",
        "  detail = None\n",
        "\n",
        "  def __str__(self):\n",
        "    return str(self.title)\n",
        "\n",
        "\n",
        "class MyTypeError(MyValidateError):\n",
        "  title = 'Type error'\n",
        "  detail = '数値で入力してください'\n",
        "\n",
        "class MyMaxError(MyValidateError):\n",
        "  title = 'Max error'\n",
        "  detail = 'Max値 100までの値を入力してください'\n",
        "\n",
        "def validate_number(num):\n",
        "  try:\n",
        "    num = int(num)\n",
        "  except ValueError:\n",
        "    raise MyTypeError\n",
        "  if num > 100:\n",
        "    raise MyMaxError\n",
        "\n",
        "try:\n",
        "  input_number = input('検証する数字を入力してください=>')\n",
        "  validate_number(input_number)\n",
        "except MyValidateError as e:\n",
        "  print(f'{e}の例外が発生しました')\n",
        "  print(f' detail={e.detail}')"
      ],
      "metadata": {
        "colab": {
          "base_uri": "https://localhost:8080/"
        },
        "id": "eQZQ4FTSkPpk",
        "outputId": "1b55c607-79ee-44e1-addd-63c5fe6a357f"
      },
      "execution_count": 22,
      "outputs": [
        {
          "output_type": "stream",
          "name": "stdout",
          "text": [
            "検証する数字を入力してください=>500\n",
            "Max errorの例外が発生しました\n",
            " detail=Max値 100までの値を入力してください\n"
          ]
        }
      ]
    },
    {
      "cell_type": "code",
      "source": [
        "# with文\n",
        "with open('python.txt') as f:\n",
        "  print(f.read())"
      ],
      "metadata": {
        "colab": {
          "base_uri": "https://localhost:8080/"
        },
        "id": "92o46tFKnJEC",
        "outputId": "346d586c-7519-419a-b15b-c8b2f34673ee"
      },
      "execution_count": 23,
      "outputs": [
        {
          "output_type": "stream",
          "name": "stdout",
          "text": [
            "\n"
          ]
        }
      ]
    },
    {
      "cell_type": "code",
      "source": [
        "f = None\n",
        "try:\n",
        "  f = open('python.txt')\n",
        "  print(f.read())\n",
        "finally:\n",
        "  if f:\n",
        "    f.close()"
      ],
      "metadata": {
        "colab": {
          "base_uri": "https://localhost:8080/"
        },
        "id": "L68KCtmOp9SH",
        "outputId": "19f926ae-0f77-40c2-8e6b-1d532b2bdc94"
      },
      "execution_count": 24,
      "outputs": [
        {
          "output_type": "stream",
          "name": "stdout",
          "text": [
            "\n"
          ]
        }
      ]
    },
    {
      "cell_type": "code",
      "source": [
        "file_obj = open('python.txt')\n",
        "file_dir = dir(file_obj)\n",
        "'__enter__' in file_dir"
      ],
      "metadata": {
        "colab": {
          "base_uri": "https://localhost:8080/"
        },
        "id": "C8cAKPR9qQNJ",
        "outputId": "e42ff402-604a-475c-d06e-fe0403059a18"
      },
      "execution_count": 25,
      "outputs": [
        {
          "output_type": "execute_result",
          "data": {
            "text/plain": [
              "True"
            ]
          },
          "metadata": {},
          "execution_count": 25
        }
      ]
    },
    {
      "cell_type": "code",
      "source": [
        "'__exit__' in file_dir"
      ],
      "metadata": {
        "colab": {
          "base_uri": "https://localhost:8080/"
        },
        "id": "PZbBWPlFrps1",
        "outputId": "2f725aa1-038b-4aa7-f0c5-93e98848a624"
      },
      "execution_count": 26,
      "outputs": [
        {
          "output_type": "execute_result",
          "data": {
            "text/plain": [
              "True"
            ]
          },
          "metadata": {},
          "execution_count": 26
        }
      ]
    },
    {
      "cell_type": "code",
      "source": [
        "class MyOpenContextManager:\n",
        "  def __init__(self, file_name):\n",
        "    self.file_name = file_name\n",
        "  def __enter__(self):\n",
        "    print('__enter__ : ファイルをopenします')\n",
        "    self.file_obj = open(self.file_name, 'r')\n",
        "    return self.file_obj\n",
        "\n",
        "  def __exit__(self, type, value, traceback):\n",
        "    print('__exit__ : ファイルをcloseします')\n",
        "    self.file_obj.close()\n",
        "\n",
        "with MyOpenContextManager('python.txt') as f:\n",
        "  print(f.read())"
      ],
      "metadata": {
        "colab": {
          "base_uri": "https://localhost:8080/"
        },
        "id": "r4-Q_BeVrxkL",
        "outputId": "31ef278b-0dbe-477f-b5ca-a8a03c22a963"
      },
      "execution_count": 30,
      "outputs": [
        {
          "output_type": "stream",
          "name": "stdout",
          "text": [
            "__enter__ : ファイルをopenします\n",
            "\n",
            "__exit__ : ファイルをcloseします\n"
          ]
        }
      ]
    },
    {
      "cell_type": "code",
      "source": [
        "# 位置引数\n",
        "def sample_func(param1, param2, param3):\n",
        "  print(f'{param1}, {param2}, {param3}')\n",
        "\n",
        "sample_func('spam', 'ham', 'egg')"
      ],
      "metadata": {
        "colab": {
          "base_uri": "https://localhost:8080/"
        },
        "id": "fJpt74SBtsm1",
        "outputId": "ee48ae52-287b-4ca6-dec5-688c08503146"
      },
      "execution_count": 32,
      "outputs": [
        {
          "output_type": "stream",
          "name": "stdout",
          "text": [
            "spam, ham, egg\n"
          ]
        }
      ]
    },
    {
      "cell_type": "code",
      "source": [
        "sample_func('spam', 'ham', 'egg', 'cola')"
      ],
      "metadata": {
        "colab": {
          "base_uri": "https://localhost:8080/",
          "height": 139
        },
        "id": "p2t-5zxkw9iH",
        "outputId": "96076ac5-bea2-45ef-aae6-2657ce2e7838"
      },
      "execution_count": 33,
      "outputs": [
        {
          "output_type": "error",
          "ename": "TypeError",
          "evalue": "sample_func() takes 3 positional arguments but 4 were given",
          "traceback": [
            "\u001b[0;31m---------------------------------------------------------------------------\u001b[0m",
            "\u001b[0;31mTypeError\u001b[0m                                 Traceback (most recent call last)",
            "\u001b[0;32m<ipython-input-33-1bab1744b82e>\u001b[0m in \u001b[0;36m<cell line: 1>\u001b[0;34m()\u001b[0m\n\u001b[0;32m----> 1\u001b[0;31m \u001b[0msample_func\u001b[0m\u001b[0;34m(\u001b[0m\u001b[0;34m'spam'\u001b[0m\u001b[0;34m,\u001b[0m \u001b[0;34m'ham'\u001b[0m\u001b[0;34m,\u001b[0m \u001b[0;34m'egg'\u001b[0m\u001b[0;34m,\u001b[0m \u001b[0;34m'cola'\u001b[0m\u001b[0;34m)\u001b[0m\u001b[0;34m\u001b[0m\u001b[0;34m\u001b[0m\u001b[0m\n\u001b[0m",
            "\u001b[0;31mTypeError\u001b[0m: sample_func() takes 3 positional arguments but 4 were given"
          ]
        }
      ]
    },
    {
      "cell_type": "code",
      "source": [
        "sample_func('spam', 'ham')"
      ],
      "metadata": {
        "colab": {
          "base_uri": "https://localhost:8080/",
          "height": 139
        },
        "id": "dDNvDVvOxKrp",
        "outputId": "4ea3c2fc-343f-4408-db12-cb29925856a8"
      },
      "execution_count": 34,
      "outputs": [
        {
          "output_type": "error",
          "ename": "TypeError",
          "evalue": "sample_func() missing 1 required positional argument: 'param3'",
          "traceback": [
            "\u001b[0;31m---------------------------------------------------------------------------\u001b[0m",
            "\u001b[0;31mTypeError\u001b[0m                                 Traceback (most recent call last)",
            "\u001b[0;32m<ipython-input-34-e2f854244113>\u001b[0m in \u001b[0;36m<cell line: 1>\u001b[0;34m()\u001b[0m\n\u001b[0;32m----> 1\u001b[0;31m \u001b[0msample_func\u001b[0m\u001b[0;34m(\u001b[0m\u001b[0;34m'spam'\u001b[0m\u001b[0;34m,\u001b[0m \u001b[0;34m'ham'\u001b[0m\u001b[0;34m)\u001b[0m\u001b[0;34m\u001b[0m\u001b[0;34m\u001b[0m\u001b[0m\n\u001b[0m",
            "\u001b[0;31mTypeError\u001b[0m: sample_func() missing 1 required positional argument: 'param3'"
          ]
        }
      ]
    },
    {
      "cell_type": "code",
      "source": [
        "sample_func(param3=3, param2=2, param1=1)"
      ],
      "metadata": {
        "colab": {
          "base_uri": "https://localhost:8080/"
        },
        "id": "IsLSvKOzxWYx",
        "outputId": "b3d32ae3-f96b-4182-fa6f-0f3b99fe41de"
      },
      "execution_count": 35,
      "outputs": [
        {
          "output_type": "stream",
          "name": "stdout",
          "text": [
            "1, 2, 3\n"
          ]
        }
      ]
    },
    {
      "cell_type": "code",
      "source": [
        "sample_func(param3=3, param2=2, param1=1, param4=4)"
      ],
      "metadata": {
        "colab": {
          "base_uri": "https://localhost:8080/",
          "height": 139
        },
        "id": "FbuWSih3xpAH",
        "outputId": "441cbad4-9084-44a8-ca3f-7b3bc320a67d"
      },
      "execution_count": 36,
      "outputs": [
        {
          "output_type": "error",
          "ename": "TypeError",
          "evalue": "sample_func() got an unexpected keyword argument 'param4'",
          "traceback": [
            "\u001b[0;31m---------------------------------------------------------------------------\u001b[0m",
            "\u001b[0;31mTypeError\u001b[0m                                 Traceback (most recent call last)",
            "\u001b[0;32m<ipython-input-36-8c1906d03cba>\u001b[0m in \u001b[0;36m<cell line: 1>\u001b[0;34m()\u001b[0m\n\u001b[0;32m----> 1\u001b[0;31m \u001b[0msample_func\u001b[0m\u001b[0;34m(\u001b[0m\u001b[0mparam3\u001b[0m\u001b[0;34m=\u001b[0m\u001b[0;36m3\u001b[0m\u001b[0;34m,\u001b[0m \u001b[0mparam2\u001b[0m\u001b[0;34m=\u001b[0m\u001b[0;36m2\u001b[0m\u001b[0;34m,\u001b[0m \u001b[0mparam1\u001b[0m\u001b[0;34m=\u001b[0m\u001b[0;36m1\u001b[0m\u001b[0;34m,\u001b[0m \u001b[0mparam4\u001b[0m\u001b[0;34m=\u001b[0m\u001b[0;36m4\u001b[0m\u001b[0;34m)\u001b[0m\u001b[0;34m\u001b[0m\u001b[0;34m\u001b[0m\u001b[0m\n\u001b[0m",
            "\u001b[0;31mTypeError\u001b[0m: sample_func() got an unexpected keyword argument 'param4'"
          ]
        }
      ]
    },
    {
      "cell_type": "code",
      "source": [
        "sample_func(1, param3=3, param2=2)"
      ],
      "metadata": {
        "colab": {
          "base_uri": "https://localhost:8080/"
        },
        "id": "yiicRShRx2u-",
        "outputId": "a0038274-d88f-43a7-b0d4-1ee3f569d6e2"
      },
      "execution_count": 37,
      "outputs": [
        {
          "output_type": "stream",
          "name": "stdout",
          "text": [
            "1, 2, 3\n"
          ]
        }
      ]
    },
    {
      "cell_type": "code",
      "source": [
        "sample_func(param3=3, 1, 2)"
      ],
      "metadata": {
        "colab": {
          "base_uri": "https://localhost:8080/",
          "height": 105
        },
        "id": "MeAG6P7AyOTR",
        "outputId": "a404d7bf-17cc-4e68-beac-63447088311e"
      },
      "execution_count": 38,
      "outputs": [
        {
          "output_type": "error",
          "ename": "SyntaxError",
          "evalue": "positional argument follows keyword argument (<ipython-input-38-0c241b4134ba>, line 1)",
          "traceback": [
            "\u001b[0;36m  File \u001b[0;32m\"<ipython-input-38-0c241b4134ba>\"\u001b[0;36m, line \u001b[0;32m1\u001b[0m\n\u001b[0;31m    sample_func(param3=3, 1, 2)\u001b[0m\n\u001b[0m                              ^\u001b[0m\n\u001b[0;31mSyntaxError\u001b[0m\u001b[0;31m:\u001b[0m positional argument follows keyword argument\n"
          ]
        }
      ]
    },
    {
      "cell_type": "code",
      "source": [
        "sample_func(1, 2, param1=3)"
      ],
      "metadata": {
        "colab": {
          "base_uri": "https://localhost:8080/",
          "height": 139
        },
        "id": "PoOVrIpxycBz",
        "outputId": "c454f8ca-1be1-4594-f018-1e4e7353c7e7"
      },
      "execution_count": 39,
      "outputs": [
        {
          "output_type": "error",
          "ename": "TypeError",
          "evalue": "sample_func() got multiple values for argument 'param1'",
          "traceback": [
            "\u001b[0;31m---------------------------------------------------------------------------\u001b[0m",
            "\u001b[0;31mTypeError\u001b[0m                                 Traceback (most recent call last)",
            "\u001b[0;32m<ipython-input-39-8bbab0e424f7>\u001b[0m in \u001b[0;36m<cell line: 1>\u001b[0;34m()\u001b[0m\n\u001b[0;32m----> 1\u001b[0;31m \u001b[0msample_func\u001b[0m\u001b[0;34m(\u001b[0m\u001b[0;36m1\u001b[0m\u001b[0;34m,\u001b[0m \u001b[0;36m2\u001b[0m\u001b[0;34m,\u001b[0m \u001b[0mparam1\u001b[0m\u001b[0;34m=\u001b[0m\u001b[0;36m3\u001b[0m\u001b[0;34m)\u001b[0m\u001b[0;34m\u001b[0m\u001b[0;34m\u001b[0m\u001b[0m\n\u001b[0m",
            "\u001b[0;31mTypeError\u001b[0m: sample_func() got multiple values for argument 'param1'"
          ]
        }
      ]
    },
    {
      "cell_type": "code",
      "source": [
        "sample_func(param1=1, param2=2,3)"
      ],
      "metadata": {
        "colab": {
          "base_uri": "https://localhost:8080/",
          "height": 105
        },
        "id": "Nt6X3yBPylpW",
        "outputId": "c43338d8-d0cf-4e36-aa58-b72b8c8ffd78"
      },
      "execution_count": 40,
      "outputs": [
        {
          "output_type": "error",
          "ename": "SyntaxError",
          "evalue": "positional argument follows keyword argument (<ipython-input-40-774383085353>, line 1)",
          "traceback": [
            "\u001b[0;36m  File \u001b[0;32m\"<ipython-input-40-774383085353>\"\u001b[0;36m, line \u001b[0;32m1\u001b[0m\n\u001b[0;31m    sample_func(param1=1, param2=2,3)\u001b[0m\n\u001b[0m                                    ^\u001b[0m\n\u001b[0;31mSyntaxError\u001b[0m\u001b[0;31m:\u001b[0m positional argument follows keyword argument\n"
          ]
        }
      ]
    },
    {
      "cell_type": "code",
      "source": [
        "sample_func(1,2,3)"
      ],
      "metadata": {
        "colab": {
          "base_uri": "https://localhost:8080/"
        },
        "id": "diXuzCFxyzxm",
        "outputId": "a6294b17-1c32-453a-8ab9-959e5ed916e3"
      },
      "execution_count": 41,
      "outputs": [
        {
          "output_type": "stream",
          "name": "stdout",
          "text": [
            "1, 2, 3\n"
          ]
        }
      ]
    },
    {
      "cell_type": "code",
      "source": [
        "def sample_func(param1, param2=2, param3=3):\n",
        "  print(f'{param1}, {param2}, {param3}')"
      ],
      "metadata": {
        "id": "KmFoDzLsy8n5"
      },
      "execution_count": 42,
      "outputs": []
    },
    {
      "cell_type": "code",
      "source": [
        "sample_func(1)"
      ],
      "metadata": {
        "colab": {
          "base_uri": "https://localhost:8080/"
        },
        "id": "DPY8bPwAzjBN",
        "outputId": "9b5609db-ce46-4748-d3ff-79efdd0ae995"
      },
      "execution_count": 43,
      "outputs": [
        {
          "output_type": "stream",
          "name": "stdout",
          "text": [
            "1, 2, 3\n"
          ]
        }
      ]
    },
    {
      "cell_type": "code",
      "source": [
        "sample_func(1, 20)"
      ],
      "metadata": {
        "colab": {
          "base_uri": "https://localhost:8080/"
        },
        "id": "4JFi0YBmzllN",
        "outputId": "a506b684-4218-475b-ba1d-9928c9cefcd5"
      },
      "execution_count": 44,
      "outputs": [
        {
          "output_type": "stream",
          "name": "stdout",
          "text": [
            "1, 20, 3\n"
          ]
        }
      ]
    },
    {
      "cell_type": "code",
      "source": [
        "sample_func(1, param3='hoge')"
      ],
      "metadata": {
        "colab": {
          "base_uri": "https://localhost:8080/"
        },
        "id": "HlWt7LOlzp7T",
        "outputId": "f963f8cc-cfb7-49b8-b5e2-9c936c49298f"
      },
      "execution_count": 45,
      "outputs": [
        {
          "output_type": "stream",
          "name": "stdout",
          "text": [
            "1, 2, hoge\n"
          ]
        }
      ]
    },
    {
      "cell_type": "code",
      "source": [
        "sample_func(10,20,30)"
      ],
      "metadata": {
        "colab": {
          "base_uri": "https://localhost:8080/"
        },
        "id": "shejVNY-zyBl",
        "outputId": "f4be9203-bfa7-4aa9-a82d-739a682c4f15"
      },
      "execution_count": 46,
      "outputs": [
        {
          "output_type": "stream",
          "name": "stdout",
          "text": [
            "10, 20, 30\n"
          ]
        }
      ]
    },
    {
      "cell_type": "code",
      "source": [
        "sample_func(param2=2,param3=3,param1=1)"
      ],
      "metadata": {
        "colab": {
          "base_uri": "https://localhost:8080/"
        },
        "id": "HFb1WfaAz3Ql",
        "outputId": "7990dac8-fd94-4c79-e964-21d2ffb2aada"
      },
      "execution_count": 48,
      "outputs": [
        {
          "output_type": "stream",
          "name": "stdout",
          "text": [
            "1, 2, 3\n"
          ]
        }
      ]
    },
    {
      "cell_type": "code",
      "source": [
        "def func_sum(*args):\n",
        "  total = 0\n",
        "  for num in args:\n",
        "    total += num\n",
        "  return total"
      ],
      "metadata": {
        "id": "wngNsiyS0KtI"
      },
      "execution_count": 49,
      "outputs": []
    },
    {
      "cell_type": "code",
      "source": [
        "func_sum(1, 2, 3, 4, 5)"
      ],
      "metadata": {
        "colab": {
          "base_uri": "https://localhost:8080/"
        },
        "id": "7MLVz-Td0yYd",
        "outputId": "297f951d-e294-4a9a-dbec-88349b11f386"
      },
      "execution_count": 50,
      "outputs": [
        {
          "output_type": "execute_result",
          "data": {
            "text/plain": [
              "15"
            ]
          },
          "metadata": {},
          "execution_count": 50
        }
      ]
    },
    {
      "cell_type": "code",
      "source": [
        "num = [1, 2, 3, 4, 5]\n",
        "func_sum(*num)"
      ],
      "metadata": {
        "colab": {
          "base_uri": "https://localhost:8080/"
        },
        "id": "5Mo8aS-c1IfP",
        "outputId": "a372125b-595f-47f0-bce4-dda0b99eed64"
      },
      "execution_count": 51,
      "outputs": [
        {
          "output_type": "execute_result",
          "data": {
            "text/plain": [
              "15"
            ]
          },
          "metadata": {},
          "execution_count": 51
        }
      ]
    },
    {
      "cell_type": "code",
      "source": [
        "num = (1, 2, 3, 4, 5)\n",
        "func_sum(*num)"
      ],
      "metadata": {
        "colab": {
          "base_uri": "https://localhost:8080/"
        },
        "id": "xIMoJmfX1RRO",
        "outputId": "6466f8c2-b4cd-487b-cfa9-df7300b8a69c"
      },
      "execution_count": 52,
      "outputs": [
        {
          "output_type": "execute_result",
          "data": {
            "text/plain": [
              "15"
            ]
          },
          "metadata": {},
          "execution_count": 52
        }
      ]
    },
    {
      "cell_type": "code",
      "source": [
        "def sample_func(param1, param2, *args):\n",
        "  print(f'{param1=}')\n",
        "  print(f'{param2=}')\n",
        "  print(f'{args=}')"
      ],
      "metadata": {
        "id": "scb_dzQS1bxZ"
      },
      "execution_count": 54,
      "outputs": []
    },
    {
      "cell_type": "code",
      "source": [
        "sample_func(1,2,3,4,5)"
      ],
      "metadata": {
        "colab": {
          "base_uri": "https://localhost:8080/"
        },
        "id": "LSs-e5VY1fEy",
        "outputId": "44f48607-0042-43b9-9535-eeb45e99a64a"
      },
      "execution_count": 55,
      "outputs": [
        {
          "output_type": "stream",
          "name": "stdout",
          "text": [
            "param1=1\n",
            "param2=2\n",
            "args=(3, 4, 5)\n"
          ]
        }
      ]
    },
    {
      "cell_type": "code",
      "source": [
        "def sample_func(param1, default_arg=0, *args):\n",
        "  print(f'{param1=}')\n",
        "  print(f'{args=}')\n",
        "  print(f'{default_arg=}')"
      ],
      "metadata": {
        "id": "Wedr1x0m2D-e"
      },
      "execution_count": 56,
      "outputs": []
    },
    {
      "cell_type": "code",
      "source": [
        "sample_func(1,2,3,4,5)"
      ],
      "metadata": {
        "colab": {
          "base_uri": "https://localhost:8080/"
        },
        "id": "071gPmcE23ym",
        "outputId": "833e28a9-33d3-4a90-ef02-5f5b5f921b93"
      },
      "execution_count": 57,
      "outputs": [
        {
          "output_type": "stream",
          "name": "stdout",
          "text": [
            "param1=1\n",
            "args=(3, 4, 5)\n",
            "default_arg=2\n"
          ]
        }
      ]
    },
    {
      "cell_type": "code",
      "source": [
        "sample_func(1, default_arg=10,2, 3)"
      ],
      "metadata": {
        "colab": {
          "base_uri": "https://localhost:8080/",
          "height": 105
        },
        "id": "AgnyLDp42612",
        "outputId": "c6863d50-ffac-4eec-af82-31cbf0477307"
      },
      "execution_count": 58,
      "outputs": [
        {
          "output_type": "error",
          "ename": "SyntaxError",
          "evalue": "positional argument follows keyword argument (<ipython-input-58-4b8d618099b6>, line 1)",
          "traceback": [
            "\u001b[0;36m  File \u001b[0;32m\"<ipython-input-58-4b8d618099b6>\"\u001b[0;36m, line \u001b[0;32m1\u001b[0m\n\u001b[0;31m    sample_func(1, default_arg=10,2, 3)\u001b[0m\n\u001b[0m                                      ^\u001b[0m\n\u001b[0;31mSyntaxError\u001b[0m\u001b[0;31m:\u001b[0m positional argument follows keyword argument\n"
          ]
        }
      ]
    },
    {
      "cell_type": "code",
      "source": [
        "def sample_func(name, **kwargs):\n",
        "  print(f'{name=}')\n",
        "  for key, value in kwargs.items():\n",
        "    print(f'{key}: {value}')\n",
        ""
      ],
      "metadata": {
        "id": "lrBDd-7f3IAf"
      },
      "execution_count": 59,
      "outputs": []
    },
    {
      "cell_type": "code",
      "source": [
        "sample_func('john', age=30, email='john.adams@example-pet-store.com')"
      ],
      "metadata": {
        "colab": {
          "base_uri": "https://localhost:8080/"
        },
        "id": "kgUTunzj4deD",
        "outputId": "f598eb64-d738-4435-f502-b354a7be5d33"
      },
      "execution_count": 61,
      "outputs": [
        {
          "output_type": "stream",
          "name": "stdout",
          "text": [
            "name='john'\n",
            "age: 30\n",
            "email: john.adams@example-pet-store.com\n"
          ]
        }
      ]
    },
    {
      "cell_type": "code",
      "source": [
        "user_dict = {'age': 30, 'email': 'john.adams@example-pet-store.com', 'name' : 'ken'}\n",
        "sample_func(**user_dict)"
      ],
      "metadata": {
        "colab": {
          "base_uri": "https://localhost:8080/"
        },
        "id": "ofkeddtA4nqt",
        "outputId": "85df6cc7-82ce-4f19-a2be-20d0ed8ce760"
      },
      "execution_count": 64,
      "outputs": [
        {
          "output_type": "stream",
          "name": "stdout",
          "text": [
            "name='ken'\n",
            "age: 30\n",
            "email: john.adams@example-pet-store.com\n"
          ]
        }
      ]
    },
    {
      "cell_type": "code",
      "source": [
        "def sample_func(param1, *args, default_arg=0, **kwargs):\n",
        "  print(f'{param1=}')\n",
        "  print(f'{args=}')\n",
        "  print(f'{default_arg=}')\n",
        "  print(f'{kwargs=}')"
      ],
      "metadata": {
        "id": "vOo15GDE6Y5O"
      },
      "execution_count": 65,
      "outputs": []
    },
    {
      "cell_type": "code",
      "source": [
        "sample_func(1,2,4,5,default_arg=10,name='ken',age=30)"
      ],
      "metadata": {
        "colab": {
          "base_uri": "https://localhost:8080/"
        },
        "id": "OdAU2ItG7ISM",
        "outputId": "2b92ee08-9dbc-4890-d13e-16e14cfb94e3"
      },
      "execution_count": 67,
      "outputs": [
        {
          "output_type": "stream",
          "name": "stdout",
          "text": [
            "param1=1\n",
            "args=(2, 4, 5)\n",
            "default_arg=10\n",
            "kwargs={'name': 'ken', 'age': 30}\n"
          ]
        }
      ]
    },
    {
      "cell_type": "code",
      "source": [
        "def sample_func(param1, *, key):\n",
        "  print(f'{param1}, {key}')"
      ],
      "metadata": {
        "id": "BLWY4Mzq7Qdr"
      },
      "execution_count": 68,
      "outputs": []
    },
    {
      "cell_type": "code",
      "source": [
        "sample_func(1, key=10)"
      ],
      "metadata": {
        "colab": {
          "base_uri": "https://localhost:8080/"
        },
        "id": "aRoY5e-t8E9-",
        "outputId": "6d79fe62-2a5d-488d-a9b1-85924051d3fa"
      },
      "execution_count": 76,
      "outputs": [
        {
          "output_type": "stream",
          "name": "stdout",
          "text": [
            "1, 10\n"
          ]
        }
      ]
    },
    {
      "cell_type": "code",
      "source": [
        "def add(x, y, /):\n",
        "  return x + y"
      ],
      "metadata": {
        "id": "MbAlTNjT8J5z"
      },
      "execution_count": 77,
      "outputs": []
    },
    {
      "cell_type": "code",
      "source": [
        "add(1,2)"
      ],
      "metadata": {
        "colab": {
          "base_uri": "https://localhost:8080/"
        },
        "id": "j1abKaLs8xNW",
        "outputId": "29625b4a-f13d-4d61-dc96-2fd9ec870522"
      },
      "execution_count": 80,
      "outputs": [
        {
          "output_type": "execute_result",
          "data": {
            "text/plain": [
              "3"
            ]
          },
          "metadata": {},
          "execution_count": 80
        }
      ]
    },
    {
      "cell_type": "code",
      "source": [
        "add(x=1, y=2)"
      ],
      "metadata": {
        "colab": {
          "base_uri": "https://localhost:8080/",
          "height": 139
        },
        "id": "t0PZwW0d8ysz",
        "outputId": "3ebd67b1-1f0a-4ef9-d4fe-44e4e4d452de"
      },
      "execution_count": 81,
      "outputs": [
        {
          "output_type": "error",
          "ename": "TypeError",
          "evalue": "add() got some positional-only arguments passed as keyword arguments: 'x, y'",
          "traceback": [
            "\u001b[0;31m---------------------------------------------------------------------------\u001b[0m",
            "\u001b[0;31mTypeError\u001b[0m                                 Traceback (most recent call last)",
            "\u001b[0;32m<ipython-input-81-bf9ee47465d9>\u001b[0m in \u001b[0;36m<cell line: 1>\u001b[0;34m()\u001b[0m\n\u001b[0;32m----> 1\u001b[0;31m \u001b[0madd\u001b[0m\u001b[0;34m(\u001b[0m\u001b[0mx\u001b[0m\u001b[0;34m=\u001b[0m\u001b[0;36m1\u001b[0m\u001b[0;34m,\u001b[0m \u001b[0my\u001b[0m\u001b[0;34m=\u001b[0m\u001b[0;36m2\u001b[0m\u001b[0;34m)\u001b[0m\u001b[0;34m\u001b[0m\u001b[0;34m\u001b[0m\u001b[0m\n\u001b[0m",
            "\u001b[0;31mTypeError\u001b[0m: add() got some positional-only arguments passed as keyword arguments: 'x, y'"
          ]
        }
      ]
    },
    {
      "cell_type": "code",
      "source": [
        "num = [1, 2, 3]\n",
        "sum(num)"
      ],
      "metadata": {
        "colab": {
          "base_uri": "https://localhost:8080/"
        },
        "id": "Rb38rfph83WV",
        "outputId": "d4cc1811-4ba9-4b2d-bbcd-909cd9f4eef1"
      },
      "execution_count": 84,
      "outputs": [
        {
          "output_type": "execute_result",
          "data": {
            "text/plain": [
              "6"
            ]
          },
          "metadata": {},
          "execution_count": 84
        }
      ]
    },
    {
      "cell_type": "code",
      "source": [
        "sum(num, start=90)"
      ],
      "metadata": {
        "colab": {
          "base_uri": "https://localhost:8080/"
        },
        "id": "nk85xbMr9RsA",
        "outputId": "63dded77-6225-4a09-c622-f75e8810c0e0"
      },
      "execution_count": 85,
      "outputs": [
        {
          "output_type": "execute_result",
          "data": {
            "text/plain": [
              "96"
            ]
          },
          "metadata": {},
          "execution_count": 85
        }
      ]
    },
    {
      "cell_type": "code",
      "source": [
        "def add(a, b, c=0):\n",
        "  return a + b + c"
      ],
      "metadata": {
        "id": "Q_ZrbTfU9ZS0"
      },
      "execution_count": 86,
      "outputs": []
    },
    {
      "cell_type": "code",
      "source": [
        "add(1,4,8)"
      ],
      "metadata": {
        "colab": {
          "base_uri": "https://localhost:8080/"
        },
        "id": "Zog-Zz_r9vmB",
        "outputId": "2b5b4dd5-944d-4737-e362-0e820874218d"
      },
      "execution_count": 92,
      "outputs": [
        {
          "output_type": "execute_result",
          "data": {
            "text/plain": [
              "13"
            ]
          },
          "metadata": {},
          "execution_count": 92
        }
      ]
    },
    {
      "cell_type": "code",
      "source": [
        "from datetime import datetime\n",
        "def save_user(updated_at=None, **user):\n",
        "  if updated_at is None:\n",
        "        updated_at = datetime.now()  # 関数が呼び出された時点での日時を設定\n",
        "  print(f'user: ',user)\n",
        "  print('update: ', updated_at)\n",
        "  save(user, updated_at)\n",
        "def save(user, updated_at):\n",
        "    print('User saved:', user)\n",
        "    print('Saved at:', updated_at)"
      ],
      "metadata": {
        "id": "_cloIL2B9zCT"
      },
      "execution_count": 112,
      "outputs": []
    },
    {
      "cell_type": "code",
      "source": [
        "user_info = {'name': 'ken', 'age': 30, 'email': 'john@mail'}\n",
        "save_user(**user_info)"
      ],
      "metadata": {
        "colab": {
          "base_uri": "https://localhost:8080/"
        },
        "id": "Hl6Tb-hA_OeX",
        "outputId": "25583110-f81d-4f3e-8e10-f880dc62f05d"
      },
      "execution_count": 113,
      "outputs": [
        {
          "output_type": "stream",
          "name": "stdout",
          "text": [
            "user:  {'name': 'ken', 'age': 30, 'email': 'john@mail'}\n",
            "update:  2024-09-05 16:33:38.502434\n",
            "User saved: {'name': 'ken', 'age': 30, 'email': 'john@mail'}\n",
            "Saved at: 2024-09-05 16:33:38.502434\n"
          ]
        }
      ]
    },
    {
      "cell_type": "code",
      "source": [
        "user_info = {'name': 'sara', 'age': 30, 'email': 'john@mail'}\n",
        "save_user(**user_info)"
      ],
      "metadata": {
        "colab": {
          "base_uri": "https://localhost:8080/"
        },
        "id": "1Zvi4yQb_hzR",
        "outputId": "094a8e85-a68b-449d-eb60-1933790fb689"
      },
      "execution_count": 114,
      "outputs": [
        {
          "output_type": "stream",
          "name": "stdout",
          "text": [
            "user:  {'name': 'sara', 'age': 30, 'email': 'john@mail'}\n",
            "update:  2024-09-05 16:33:39.884917\n",
            "User saved: {'name': 'sara', 'age': 30, 'email': 'john@mail'}\n",
            "Saved at: 2024-09-05 16:33:39.884917\n"
          ]
        }
      ]
    },
    {
      "cell_type": "code",
      "source": [],
      "metadata": {
        "id": "KAOdOStsBHiu"
      },
      "execution_count": null,
      "outputs": []
    }
  ]
}